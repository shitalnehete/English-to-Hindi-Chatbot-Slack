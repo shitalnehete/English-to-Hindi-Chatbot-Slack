{
 "cells": [
  {
   "cell_type": "markdown",
   "id": "ba05d0d8",
   "metadata": {},
   "source": [
    "### Calling Web Service using HTTP Post"
   ]
  },
  {
   "cell_type": "code",
   "execution_count": null,
   "id": "8c93abe8",
   "metadata": {},
   "outputs": [],
   "source": [
    "import requests\n",
    "\n",
    "request = requests.post(\"http://localhost:5000\", #Change the URL if needed\n",
    "                       data={'user_name':'Raj','text':\"I'm starving\"})\n",
    "\n",
    "if(request.status_code == 200):\n",
    "    print(request.text)\n",
    "else:\n",
    "    print(request.status_code, request.reason)\n"
   ]
  },
  {
   "cell_type": "markdown",
   "id": "b8ff0b27",
   "metadata": {},
   "source": [
    "### Calling Web Service using HTTP Get"
   ]
  },
  {
   "cell_type": "code",
   "execution_count": null,
   "id": "876ad0ea",
   "metadata": {},
   "outputs": [],
   "source": [
    "request = requests.get(\"http://localhost:5000\",\n",
    "                       data={'user_name':'Raj','text':\"I'm starving\"})\n",
    "\n",
    "if(request.status_code == 200):\n",
    "    print(request.text)\n",
    "else:\n",
    "    print(request.status_code, request.reason)\n"
   ]
  }
 ],
 "metadata": {
  "kernelspec": {
   "display_name": "Python 3 (ipykernel)",
   "language": "python",
   "name": "python3"
  },
  "language_info": {
   "codemirror_mode": {
    "name": "ipython",
    "version": 3
   },
   "file_extension": ".py",
   "mimetype": "text/x-python",
   "name": "python",
   "nbconvert_exporter": "python",
   "pygments_lexer": "ipython3",
   "version": "3.9.6"
  }
 },
 "nbformat": 4,
 "nbformat_minor": 5
}
