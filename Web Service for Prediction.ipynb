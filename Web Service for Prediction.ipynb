{
 "cells": [
  {
   "cell_type": "markdown",
   "id": "fad6d1ad",
   "metadata": {},
   "source": [
    "### Import Prediction module"
   ]
  },
  {
   "cell_type": "code",
   "execution_count": null,
   "id": "26f06291",
   "metadata": {},
   "outputs": [],
   "source": [
    "import Seq2Seq_Prediction as model"
   ]
  },
  {
   "cell_type": "markdown",
   "id": "7dcdab97",
   "metadata": {},
   "source": [
    "### Build a Web Service using Flask"
   ]
  },
  {
   "cell_type": "code",
   "execution_count": null,
   "id": "6ec7b50e",
   "metadata": {},
   "outputs": [],
   "source": [
    "from flask import Flask, request\n",
    "\n",
    "app = Flask(__name__)\n",
    "\n",
    "@app.route('/', methods=['GET','POST'])\n",
    "def eng_hin_translate():    \n",
    "    #Extract user name\n",
    "    user_name = request.form['user_name']    \n",
    "    #Extract English text\n",
    "    text = request.form['text']\n",
    "    \n",
    "    #translate and return back the text\n",
    "    return 'Hi ' + user_name.title() + ', \\\n",
    "    Here is the hindi translation of your input...\\n' + model.decode_sentence(text)\n"
   ]
  },
  {
   "cell_type": "markdown",
   "id": "07e54cf9",
   "metadata": {},
   "source": [
    "### Start the Service"
   ]
  },
  {
   "cell_type": "code",
   "execution_count": null,
   "id": "861b2de3",
   "metadata": {},
   "outputs": [],
   "source": [
    "if __name__ == '__main__':\n",
    "    #Start http server locally on port 5000\n",
    "    app.run()"
   ]
  },
  {
   "cell_type": "code",
   "execution_count": null,
   "id": "189f5cd9",
   "metadata": {},
   "outputs": [],
   "source": []
  }
 ],
 "metadata": {
  "kernelspec": {
   "display_name": "Python 3 (ipykernel)",
   "language": "python",
   "name": "python3"
  },
  "language_info": {
   "codemirror_mode": {
    "name": "ipython",
    "version": 3
   },
   "file_extension": ".py",
   "mimetype": "text/x-python",
   "name": "python",
   "nbconvert_exporter": "python",
   "pygments_lexer": "ipython3",
   "version": "3.9.6"
  }
 },
 "nbformat": 4,
 "nbformat_minor": 5
}
